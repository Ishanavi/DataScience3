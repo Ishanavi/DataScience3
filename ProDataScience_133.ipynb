{
  "nbformat": 4,
  "nbformat_minor": 0,
  "metadata": {
    "colab": {
      "name": "ProDataScience-133.ipynb",
      "provenance": [],
      "collapsed_sections": [],
      "authorship_tag": "ABX9TyNFlwZZAIZOgO+htEi/Yok6",
      "include_colab_link": true
    },
    "kernelspec": {
      "name": "python3",
      "display_name": "Python 3"
    },
    "language_info": {
      "name": "python"
    }
  },
  "cells": [
    {
      "cell_type": "markdown",
      "metadata": {
        "id": "view-in-github",
        "colab_type": "text"
      },
      "source": [
        "<a href=\"https://colab.research.google.com/github/Ishanavi/DataScience3/blob/main/ProDataScience_133.ipynb\" target=\"_parent\"><img src=\"https://colab.research.google.com/assets/colab-badge.svg\" alt=\"Open In Colab\"/></a>"
      ]
    },
    {
      "cell_type": "code",
      "execution_count": 2,
      "metadata": {
        "colab": {
          "resources": {
            "http://localhost:8080/nbextensions/google.colab/files.js": {
              "data": "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",
              "ok": true,
              "headers": [
                [
                  "content-type",
                  "application/javascript"
                ]
              ],
              "status": 200,
              "status_text": ""
            }
          },
          "base_uri": "https://localhost:8080/",
          "height": 74
        },
        "id": "GaDH5J3U-SL-",
        "outputId": "f35937b8-275b-4d0b-8451-a40d2700fdfa"
      },
      "outputs": [
        {
          "output_type": "display_data",
          "data": {
            "text/plain": [
              "<IPython.core.display.HTML object>"
            ],
            "text/html": [
              "\n",
              "     <input type=\"file\" id=\"files-4191c6ef-3c28-402d-9f01-524f5fe5ea08\" name=\"files[]\" multiple disabled\n",
              "        style=\"border:none\" />\n",
              "     <output id=\"result-4191c6ef-3c28-402d-9f01-524f5fe5ea08\">\n",
              "      Upload widget is only available when the cell has been executed in the\n",
              "      current browser session. Please rerun this cell to enable.\n",
              "      </output>\n",
              "      <script src=\"/nbextensions/google.colab/files.js\"></script> "
            ]
          },
          "metadata": {}
        },
        {
          "output_type": "stream",
          "name": "stdout",
          "text": [
            "Saving star_with_gravity.csv to star_with_gravity.csv\n"
          ]
        }
      ],
      "source": [
        "from google.colab import files\n",
        "data_upload = files.upload()"
      ]
    },
    {
      "cell_type": "code",
      "source": [
        "import pandas as pd\n",
        "import matplotlib.pyplot as plt\n",
        "\n",
        "df = pd.read_csv(\"star_with_gravity.csv\")\n",
        "df.head()"
      ],
      "metadata": {
        "colab": {
          "base_uri": "https://localhost:8080/",
          "height": 206
        },
        "id": "KuVbTPHg-ikZ",
        "outputId": "d43ff76e-1b1a-432c-cb93-9575492282cd"
      },
      "execution_count": 3,
      "outputs": [
        {
          "output_type": "execute_result",
          "data": {
            "text/plain": [
              "   Unnamed: 0  Unnamed: 0.1       Star_name     Distance  Mass  Radius  \\\n",
              "0           0             0             Sun  0.000015813   1.0    1.00   \n",
              "1           1             1          Sirius          8.6   2.1    1.71   \n",
              "2           2             2         Canopus          310  15.0   71.00   \n",
              "3           3             3  Alpha Centauri          4.4   1.1    1.20   \n",
              "4           4             4        Arcturus           37   1.1   26.00   \n",
              "\n",
              "        Gravity  \n",
              "0  9.540453e+10  \n",
              "1  1.171635e+11  \n",
              "2  2.015589e+10  \n",
              "3  8.745415e+10  \n",
              "4  4.036345e+09  "
            ],
            "text/html": [
              "\n",
              "  <div id=\"df-362459ad-7389-4c27-bfb5-dc32ec7156d9\">\n",
              "    <div class=\"colab-df-container\">\n",
              "      <div>\n",
              "<style scoped>\n",
              "    .dataframe tbody tr th:only-of-type {\n",
              "        vertical-align: middle;\n",
              "    }\n",
              "\n",
              "    .dataframe tbody tr th {\n",
              "        vertical-align: top;\n",
              "    }\n",
              "\n",
              "    .dataframe thead th {\n",
              "        text-align: right;\n",
              "    }\n",
              "</style>\n",
              "<table border=\"1\" class=\"dataframe\">\n",
              "  <thead>\n",
              "    <tr style=\"text-align: right;\">\n",
              "      <th></th>\n",
              "      <th>Unnamed: 0</th>\n",
              "      <th>Unnamed: 0.1</th>\n",
              "      <th>Star_name</th>\n",
              "      <th>Distance</th>\n",
              "      <th>Mass</th>\n",
              "      <th>Radius</th>\n",
              "      <th>Gravity</th>\n",
              "    </tr>\n",
              "  </thead>\n",
              "  <tbody>\n",
              "    <tr>\n",
              "      <th>0</th>\n",
              "      <td>0</td>\n",
              "      <td>0</td>\n",
              "      <td>Sun</td>\n",
              "      <td>0.000015813</td>\n",
              "      <td>1.0</td>\n",
              "      <td>1.00</td>\n",
              "      <td>9.540453e+10</td>\n",
              "    </tr>\n",
              "    <tr>\n",
              "      <th>1</th>\n",
              "      <td>1</td>\n",
              "      <td>1</td>\n",
              "      <td>Sirius</td>\n",
              "      <td>8.6</td>\n",
              "      <td>2.1</td>\n",
              "      <td>1.71</td>\n",
              "      <td>1.171635e+11</td>\n",
              "    </tr>\n",
              "    <tr>\n",
              "      <th>2</th>\n",
              "      <td>2</td>\n",
              "      <td>2</td>\n",
              "      <td>Canopus</td>\n",
              "      <td>310</td>\n",
              "      <td>15.0</td>\n",
              "      <td>71.00</td>\n",
              "      <td>2.015589e+10</td>\n",
              "    </tr>\n",
              "    <tr>\n",
              "      <th>3</th>\n",
              "      <td>3</td>\n",
              "      <td>3</td>\n",
              "      <td>Alpha Centauri</td>\n",
              "      <td>4.4</td>\n",
              "      <td>1.1</td>\n",
              "      <td>1.20</td>\n",
              "      <td>8.745415e+10</td>\n",
              "    </tr>\n",
              "    <tr>\n",
              "      <th>4</th>\n",
              "      <td>4</td>\n",
              "      <td>4</td>\n",
              "      <td>Arcturus</td>\n",
              "      <td>37</td>\n",
              "      <td>1.1</td>\n",
              "      <td>26.00</td>\n",
              "      <td>4.036345e+09</td>\n",
              "    </tr>\n",
              "  </tbody>\n",
              "</table>\n",
              "</div>\n",
              "      <button class=\"colab-df-convert\" onclick=\"convertToInteractive('df-362459ad-7389-4c27-bfb5-dc32ec7156d9')\"\n",
              "              title=\"Convert this dataframe to an interactive table.\"\n",
              "              style=\"display:none;\">\n",
              "        \n",
              "  <svg xmlns=\"http://www.w3.org/2000/svg\" height=\"24px\"viewBox=\"0 0 24 24\"\n",
              "       width=\"24px\">\n",
              "    <path d=\"M0 0h24v24H0V0z\" fill=\"none\"/>\n",
              "    <path d=\"M18.56 5.44l.94 2.06.94-2.06 2.06-.94-2.06-.94-.94-2.06-.94 2.06-2.06.94zm-11 1L8.5 8.5l.94-2.06 2.06-.94-2.06-.94L8.5 2.5l-.94 2.06-2.06.94zm10 10l.94 2.06.94-2.06 2.06-.94-2.06-.94-.94-2.06-.94 2.06-2.06.94z\"/><path d=\"M17.41 7.96l-1.37-1.37c-.4-.4-.92-.59-1.43-.59-.52 0-1.04.2-1.43.59L10.3 9.45l-7.72 7.72c-.78.78-.78 2.05 0 2.83L4 21.41c.39.39.9.59 1.41.59.51 0 1.02-.2 1.41-.59l7.78-7.78 2.81-2.81c.8-.78.8-2.07 0-2.86zM5.41 20L4 18.59l7.72-7.72 1.47 1.35L5.41 20z\"/>\n",
              "  </svg>\n",
              "      </button>\n",
              "      \n",
              "  <style>\n",
              "    .colab-df-container {\n",
              "      display:flex;\n",
              "      flex-wrap:wrap;\n",
              "      gap: 12px;\n",
              "    }\n",
              "\n",
              "    .colab-df-convert {\n",
              "      background-color: #E8F0FE;\n",
              "      border: none;\n",
              "      border-radius: 50%;\n",
              "      cursor: pointer;\n",
              "      display: none;\n",
              "      fill: #1967D2;\n",
              "      height: 32px;\n",
              "      padding: 0 0 0 0;\n",
              "      width: 32px;\n",
              "    }\n",
              "\n",
              "    .colab-df-convert:hover {\n",
              "      background-color: #E2EBFA;\n",
              "      box-shadow: 0px 1px 2px rgba(60, 64, 67, 0.3), 0px 1px 3px 1px rgba(60, 64, 67, 0.15);\n",
              "      fill: #174EA6;\n",
              "    }\n",
              "\n",
              "    [theme=dark] .colab-df-convert {\n",
              "      background-color: #3B4455;\n",
              "      fill: #D2E3FC;\n",
              "    }\n",
              "\n",
              "    [theme=dark] .colab-df-convert:hover {\n",
              "      background-color: #434B5C;\n",
              "      box-shadow: 0px 1px 3px 1px rgba(0, 0, 0, 0.15);\n",
              "      filter: drop-shadow(0px 1px 2px rgba(0, 0, 0, 0.3));\n",
              "      fill: #FFFFFF;\n",
              "    }\n",
              "  </style>\n",
              "\n",
              "      <script>\n",
              "        const buttonEl =\n",
              "          document.querySelector('#df-362459ad-7389-4c27-bfb5-dc32ec7156d9 button.colab-df-convert');\n",
              "        buttonEl.style.display =\n",
              "          google.colab.kernel.accessAllowed ? 'block' : 'none';\n",
              "\n",
              "        async function convertToInteractive(key) {\n",
              "          const element = document.querySelector('#df-362459ad-7389-4c27-bfb5-dc32ec7156d9');\n",
              "          const dataTable =\n",
              "            await google.colab.kernel.invokeFunction('convertToInteractive',\n",
              "                                                     [key], {});\n",
              "          if (!dataTable) return;\n",
              "\n",
              "          const docLinkHtml = 'Like what you see? Visit the ' +\n",
              "            '<a target=\"_blank\" href=https://colab.research.google.com/notebooks/data_table.ipynb>data table notebook</a>'\n",
              "            + ' to learn more about interactive tables.';\n",
              "          element.innerHTML = '';\n",
              "          dataTable['output_type'] = 'display_data';\n",
              "          await google.colab.output.renderOutput(dataTable, element);\n",
              "          const docLink = document.createElement('div');\n",
              "          docLink.innerHTML = docLinkHtml;\n",
              "          element.appendChild(docLink);\n",
              "        }\n",
              "      </script>\n",
              "    </div>\n",
              "  </div>\n",
              "  "
            ]
          },
          "metadata": {},
          "execution_count": 3
        }
      ]
    },
    {
      "cell_type": "code",
      "source": [
        "mass = df[\"Mass\"].tolist()\n",
        "radius = df[\"Radius\"].tolist()\n",
        "gravity = df[\"Gravity\"].tolist()"
      ],
      "metadata": {
        "id": "CzjgIMCEOVtm"
      },
      "execution_count": 4,
      "outputs": []
    },
    {
      "cell_type": "code",
      "source": [
        "mass.sort()\n",
        "gravity.sort()\n",
        "radius.sort()"
      ],
      "metadata": {
        "id": "LKCltdEBOttM"
      },
      "execution_count": 5,
      "outputs": []
    },
    {
      "cell_type": "code",
      "source": [
        "plt.plot(radius,mass)\n",
        "plt.title(\"Radius & Mass of the Star\")\n",
        "plt.xlabel(\"Radius\")\n",
        "plt.ylabel(\"Mass\")\n",
        "plt.show()"
      ],
      "metadata": {
        "colab": {
          "base_uri": "https://localhost:8080/",
          "height": 295
        },
        "id": "yBKwq23BO-L-",
        "outputId": "c83f8b64-ac0b-4e2a-ab67-235621dd4e02"
      },
      "execution_count": 6,
      "outputs": [
        {
          "output_type": "display_data",
          "data": {
            "text/plain": [
              "<Figure size 432x288 with 1 Axes>"
            ],
            "image/png": "[encoded data removed]"
          },
          "metadata": {
            "needs_background": "light"
          }
        }
      ]
    },
    {
      "cell_type": "code",
      "source": [
        "plt.scatter(radius,mass)\n",
        "plt.title(\"Radius & Mass of the Star\")\n",
        "plt.xlabel(\"Radius\")\n",
        "plt.ylabel(\"Mass\")\n",
        "plt.show()"
      ],
      "metadata": {
        "colab": {
          "base_uri": "https://localhost:8080/",
          "height": 295
        },
        "id": "gXX48Xc-Pf10",
        "outputId": "84ace95b-75e0-4f23-8fe0-33ffb76d7fca"
      },
      "execution_count": 7,
      "outputs": [
        {
          "output_type": "display_data",
          "data": {
            "text/plain": [
              "<Figure size 432x288 with 1 Axes>"
            ],
            "image/png": "[encoded data removed]"
          },
          "metadata": {
            "needs_background": "light"
          }
        }
      ]
    },
    {
      "cell_type": "code",
      "source": [
        "plt.plot(mass,gravity)\n",
        "plt.title(\"Mass & Gravity of the Star\")\n",
        "plt.xlabel(\"Mass\")\n",
        "plt.ylabel(\"Gravity\")\n",
        "plt.show()"
      ],
      "metadata": {
        "colab": {
          "base_uri": "https://localhost:8080/",
          "height": 295
        },
        "id": "UfJ-0kf0PJMM",
        "outputId": "de18488f-c886-4f47-ade9-be3340bcc4f7"
      },
      "execution_count": 8,
      "outputs": [
        {
          "output_type": "display_data",
          "data": {
            "text/plain": [
              "<Figure size 432x288 with 1 Axes>"
            ],
            "image/png": "[encoded data removed]"
          },
          "metadata": {
            "needs_background": "light"
          }
        }
      ]
    },
    {
      "cell_type": "code",
      "source": [
        "from sklearn.cluster import KMeans\n",
        "import seaborn as sns\n",
        "\n",
        "X = []\n",
        "for index, star_mass in enumerate(mass):\n",
        "  temp_list = [\n",
        "                  radius[index],\n",
        "                  star_mass\n",
        "              ]\n",
        "  X.append(temp_list)\n",
        "\n",
        "wcss = []\n",
        "for i in range(1, 11):\n",
        "    kmeans = KMeans(n_clusters=i, init='k-means++', random_state = 42)\n",
        "    kmeans.fit(X)\n",
        "    # inertia method returns wcss for that model\n",
        "    wcss.append(kmeans.inertia_)\n",
        "\n",
        "plt.figure(figsize=(10,5))\n",
        "sns.lineplot(range(1, 11), wcss, marker='o', color='red')\n",
        "plt.title('The Elbow Method')\n",
        "plt.xlabel('Number of clusters')\n",
        "plt.ylabel('WCSS')\n",
        "plt.show()"
      ],
      "metadata": {
        "colab": {
          "base_uri": "https://localhost:8080/",
          "height": 406
        },
        "id": "woHL1S5nQ9K1",
        "outputId": "f6ebce21-f67d-4c47-f61d-b94ae774c35b"
      },
      "execution_count": 9,
      "outputs": [
        {
          "output_type": "stream",
          "name": "stderr",
          "text": [
            "/usr/local/lib/python3.7/dist-packages/seaborn/_decorators.py:43: FutureWarning: Pass the following variables as keyword args: x, y. From version 0.12, the only valid positional argument will be `data`, and passing other arguments without an explicit keyword will result in an error or misinterpretation.\n",
            "  FutureWarning\n"
          ]
        },
        {
          "output_type": "display_data",
          "data": {
            "text/plain": [
              "<Figure size 720x360 with 1 Axes>"
            ],
            "image/png": "[encoded data removed]"
          },
          "metadata": {
            "needs_background": "light"
          }
        }
      ]
    },
    {
      "cell_type": "code",
      "source": [
        "from sklearn.cluster import KMeans\n",
        "import seaborn as sns\n",
        "\n",
        "X = df.iloc[:,[5,6]].values\n",
        "\n",
        "wcss = []\n",
        "for i in range(1, 11):\n",
        "    kmeans = KMeans(n_clusters=i, init='k-means++', random_state = 42)\n",
        "    kmeans.fit(X)\n",
        "    # inertia method returns wcss for that model\n",
        "    wcss.append(kmeans.inertia_)\n",
        "\n",
        "plt.figure(figsize=(10,5))\n",
        "sns.lineplot(range(1, 11), wcss, marker='o', color='red')\n",
        "plt.title('The Elbow Method')\n",
        "plt.xlabel('Number of clusters')\n",
        "plt.ylabel('WCSS')\n",
        "plt.show()"
      ],
      "metadata": {
        "id": "qWIxDW7iR6Jb",
        "colab": {
          "base_uri": "https://localhost:8080/",
          "height": 406
        },
        "outputId": "9b0f01f3-6148-4a44-df24-c32b40bb2c79"
      },
      "execution_count": 13,
      "outputs": [
        {
          "output_type": "stream",
          "name": "stderr",
          "text": [
            "/usr/local/lib/python3.7/dist-packages/seaborn/_decorators.py:43: FutureWarning: Pass the following variables as keyword args: x, y. From version 0.12, the only valid positional argument will be `data`, and passing other arguments without an explicit keyword will result in an error or misinterpretation.\n",
            "  FutureWarning\n"
          ]
        },
        {
          "output_type": "display_data",
          "data": {
            "text/plain": [
              "<Figure size 720x360 with 1 Axes>"
            ],
            "image/png": "[encoded data removed]"
          },
          "metadata": {
            "needs_background": "light"
          }
        }
      ]
    },
    {
      "cell_type": "code",
      "source": [
        "print(X)"
      ],
      "metadata": {
        "colab": {
          "base_uri": "https://localhost:8080/"
        },
        "id": "C1x9PyQuJlXY",
        "outputId": "3cb703c4-939f-4d20-8453-8fe276556416"
      },
      "execution_count": 14,
      "outputs": [
        {
          "output_type": "stream",
          "name": "stdout",
          "text": [
            "[[1.00000000e+00 9.54045278e+10]\n",
            " [1.71000000e+00 1.17163455e+11]\n",
            " [7.10000000e+01 2.01558862e+10]\n",
            " [1.20000000e+00 8.74541505e+10]\n",
            " [2.60000000e+01 4.03634541e+09]\n",
            " [2.70000000e+00 7.77370227e+10]\n",
            " [1.20000000e+01 2.06709810e+10]\n",
            " [7.89000000e+01 2.78112058e+10]\n",
            " [1.90000000e+00 7.53193641e+10]\n",
            " [9.50000000e+02 2.00851638e+09]\n",
            " [9.30000000e+00 6.87322942e+10]\n",
            " [8.60000000e+00 1.16482272e+11]\n",
            " [1.80000000e+00 9.54045278e+10]\n",
            " [8.90000000e+00 1.92952978e+11]\n",
            " [4.40000000e+01 3.25242708e+09]\n",
            " [6.80000000e+02 1.68360931e+09]\n",
            " [7.47000000e+00 1.45980422e+11]\n",
            " [8.80000000e+00 2.05987049e+10]\n",
            " [1.80000000e+00 1.00704779e+11]\n",
            " [2.03000000e+02 8.92948782e+09]\n",
            " [8.40000000e+00 1.81722910e+11]\n",
            " [3.10000000e+00 1.16947486e+11]\n",
            " [1.40000000e+01 8.51826141e+10]\n",
            " [8.80000000e+00 1.57200642e+11]\n",
            " [2.40000000e+00 1.11305282e+11]\n",
            " [8.40000000e+01 1.70365228e+09]\n",
            " [5.80000000e+00 1.41461886e+11]\n",
            " [4.20000000e+00 1.13576819e+11]\n",
            " [6.80000000e+00 4.91052717e+10]\n",
            " [4.20000000e+01 7.26891640e+10]\n",
            " [6.00000000e+00 1.43106792e+11]\n",
            " [3.40000000e+00 1.12240621e+11]\n",
            " [4.20000000e+00 6.58745549e+10]\n",
            " [2.00000000e+01 1.57417471e+11]\n",
            " [3.00000000e+01 1.35156414e+10]\n",
            " [6.80000000e+01 1.19255660e+10]\n",
            " [2.00000000e+02 8.10938486e+09]\n",
            " [2.60000000e+01 2.09156080e+10]\n",
            " [6.80000000e+00 4.91052717e+10]\n",
            " [1.30000000e+02 6.60492885e+09]\n",
            " [3.40000000e+00 1.71166947e+11]\n",
            " [2.77000000e+00 8.23165420e+10]\n",
            " [9.20000000e+01 7.25904016e+09]\n",
            " [3.30000000e+00 8.09492963e+10]\n",
            " [4.80000000e+00 1.17268065e+11]\n",
            " [2.90000000e+00 7.89554713e+10]\n",
            " [1.00000000e+01 1.28796113e+11]\n",
            " [3.90000000e+01 1.32098577e+10]\n",
            " [5.00000000e+01 5.72427167e+09]\n",
            " [9.50000000e+01 2.10894219e+09]\n",
            " [1.40000000e+02 1.02219137e+10]\n",
            " [2.80000000e+02 9.54045278e+08]\n",
            " [8.93000000e-01 8.36525703e+10]\n",
            " [1.22000000e+00 7.74966287e+10]\n",
            " [7.40000000e-01 1.05718531e+11]\n",
            " [4.85000000e+02 3.93420733e+09]\n",
            " [8.81000000e+02 1.08291178e+10]\n",
            " [4.45000000e+01 9.64764888e+09]\n",
            " [9.72000000e+02 1.88453388e+09]\n",
            " [1.48000000e+00 8.18673989e+10]\n",
            " [8.00000000e+02 2.62362451e+09]\n",
            " [7.60000000e+01 3.76596820e+10]\n",
            " [7.50000000e+02 2.31514987e+09]\n",
            " [6.65000000e-01 1.00425819e+11]\n",
            " [2.98000000e+02 2.56119538e+08]\n",
            " [3.74000000e+00 4.05596789e+10]\n",
            " [8.50000000e+01 9.54045278e+08]\n",
            " [9.40000000e-01 7.71355757e+10]\n",
            " [3.70000000e+02 3.09420090e+08]\n",
            " [1.15800000e+03 1.14518388e+09]\n",
            " [5.10000000e-01 1.12240621e+11]\n",
            " [4.50000000e+02 1.06005031e+08]\n",
            " [1.40000000e+00 1.36292183e+11]\n",
            " [3.40000000e+00 2.24481242e+10]\n",
            " [1.42000000e+03 1.14216688e+09]\n",
            " [3.20000000e+02 2.98139149e+10]\n",
            " [3.80000000e+02 6.02554913e+09]\n",
            " [7.55000000e+02 8.84545291e+08]\n",
            " [2.00000000e-01 6.67831695e+10]\n",
            " [2.00000000e-02 1.90809056e+11]\n",
            " [1.50000000e-01 7.63236223e+10]\n",
            " [1.58000000e+00 8.63471359e+10]\n",
            " [3.20000000e+01 8.64603533e+11]\n",
            " [2.11000000e+01 8.54571363e+11]\n",
            " [3.90000000e-01 4.64791289e+12]\n",
            " [1.44700000e+01 3.78980806e+11]\n",
            " [9.90000000e-01 9.73318920e+10]\n",
            " [2.10000000e-01 7.26891640e+10]\n",
            " [1.90000000e+03 2.51064547e+09]\n",
            " [1.00000000e-01 7.15533959e+10]\n",
            " [1.60000000e+03 1.19255660e+09]\n",
            " [1.20000000e-01 7.07583581e+10]\n",
            " [8.60000000e-02 7.76548482e+10]\n",
            " [8.60000000e-02 3.32806492e+09]\n",
            " [2.00000000e-01 1.57417471e+13]\n",
            " [1.01735370e-01 4.29688990e+10]\n",
            " [1.67503690e-01 1.03303296e+10]\n",
            " [1.12011670e-01 6.42316053e+10]\n",
            " [1.47978720e-01 1.90786387e+10]\n",
            " [1.00707740e-01 4.88332768e+10]\n",
            " [1.46951090e-01 1.79725683e+10]\n",
            " [9.65972200e-02 3.95976689e+10]\n",
            " [9.65972200e-02 3.95976689e+10]\n",
            " [1.66476060e-01 1.25823281e+10]\n",
            " [1.33591900e-01 8.18061730e+09]\n",
            " [9.65972200e-02 3.77120656e+10]\n",
            " [1.46951090e-01 1.79725683e+10]\n",
            " [1.00707740e-01 4.70246369e+10]\n",
            " [1.00707740e-01 4.70246369e+10]\n",
            " [1.66476060e-01 1.09411548e+10]\n",
            " [1.65448430e-01 1.10091123e+10]\n",
            " [9.96801100e-02 4.29412128e+10]\n",
            " [9.96801100e-02 4.29412128e+10]\n",
            " [1.57227390e-01 8.68856413e+09]\n",
            " [1.66476060e-01 1.09411548e+10]\n",
            " [1.44895830e-01 1.69704295e+10]\n",
            " [1.01735370e-01 2.95411180e+10]\n",
            " [1.10984040e-01 6.40057558e+10]\n",
            " [1.30509010e-01 5.58257349e+10]\n",
            " [1.95249700e-01 3.03185159e+10]\n",
            " [1.95249700e-01 3.03185159e+10]\n",
            " [9.96801100e-02 7.30914261e+10]\n",
            " [9.96801100e-02 4.47684985e+10]\n",
            " [1.18177450e-01 6.78161319e+10]\n",
            " [1.70586580e-01 1.22791394e+10]\n",
            " [9.76248500e-02 4.19794835e+10]\n",
            " [1.33591900e-01 1.22709260e+10]\n",
            " [1.00707740e-01 4.88332768e+10]\n",
            " [1.06873520e-01 6.22067774e+10]\n",
            " [1.46951090e-01 4.52412927e+10]\n",
            " [1.07901150e-01 6.24583639e+10]\n",
            " [3.88444140e-01 1.28949325e+10]\n",
            " [1.30509010e-01 7.11778120e+10]\n",
            " [1.35647160e-01 1.34277809e+10]\n",
            " [9.76248500e-02 2.79863224e+10]\n",
            " [1.12011670e-01 6.50446636e+10]\n",
            " [1.29481380e-01 7.03359953e+10]\n",
            " [2.02443110e-01 1.75447249e+10]\n",
            " [9.96801100e-02 4.38548556e+10]\n",
            " [1.82918140e-01 1.09534483e+10]\n",
            " [1.02763000e-01 5.67189466e+10]\n",
            " [7.39893600e+00 1.28011573e+07]\n",
            " [1.02763000e-01 5.67189466e+10]\n",
            " [1.41812940e-01 1.34861626e+10]\n",
            " [9.96801100e-02 4.29412128e+10]\n",
            " [1.03790630e-01 5.96672087e+10]\n",
            " [1.03790630e-01 5.35249961e+10]\n",
            " [1.44895830e-01 1.75989639e+10]\n",
            " [1.55172130e-01 2.23025659e+10]\n",
            " [1.01735370e-01 5.01303821e+10]\n",
            " [1.03790630e-01 5.87897498e+10]\n",
            " [1.07901150e-01 6.33023958e+10]\n",
            " [1.05845890e-01 6.19503058e+10]\n",
            " [1.00707740e-01 2.35123184e+10]\n",
            " [9.65972200e-02 3.86548672e+10]\n",
            " [9.65972200e-02 3.48836607e+10]\n",
            " [9.65972200e-02 4.05404705e+10]\n",
            " [1.05845890e-01 6.10898849e+10]\n",
            " [6.98788400e+00 2.61960225e+07]\n",
            " [9.65972200e-02 4.14832721e+10]\n",
            " [1.00707740e-01 4.70246369e+10]\n",
            " [1.01735370e-01 4.29688990e+10]\n",
            " [1.18177450e-01 6.78161319e+10]\n",
            " [9.86524800e-02 4.24653572e+10]\n",
            " [1.02763000e-01 5.49464796e+10]\n",
            " [1.02763000e-01 5.67189466e+10]\n",
            " [1.09956410e-01 6.37756847e+10]\n",
            " [1.00707740e-01 4.52159970e+10]\n",
            " [9.65972200e-02 3.95976689e+10]\n",
            " [9.76248500e-02 2.98520772e+10]\n",
            " [9.86524800e-02 4.52348370e+10]\n",
            " [9.65972200e-02 4.14832721e+10]\n",
            " [1.00707740e-01 4.61203169e+10]\n",
            " [1.44895830e-01 1.69704295e+10]\n",
            " [9.96801100e-02 4.47684985e+10]\n",
            " [9.65972200e-02 3.95976689e+10]\n",
            " [1.09956410e-01 6.37756847e+10]\n",
            " [1.04818260e-01 3.73608258e+10]\n",
            " [1.03790630e-01 3.50983581e+10]\n",
            " [1.02763000e-01 5.67189466e+10]\n",
            " [2.45603570e-01 1.33491245e+10]\n",
            " [1.84973400e-01 3.93881574e+09]\n",
            " [1.27426120e-01 6.43234022e+09]\n",
            " [9.86524800e-02 3.04642780e+10]\n",
            " [2.26078600e-01 1.20850028e+10]\n",
            " [1.54144500e-01 2.18604274e+10]\n",
            " [1.02763000e-01 5.67189466e+10]\n",
            " [1.75724730e-01 8.81050889e+09]\n",
            " [9.65972200e-02 3.95976689e+10]\n",
            " [9.65972200e-02 3.86548672e+10]\n",
            " [2.56907500e+00 7.08986833e+07]\n",
            " [1.00707740e-01 4.25030372e+10]\n",
            " [1.00707740e-01 5.69721562e+10]\n",
            " [1.00707740e-01 5.24505565e+10]\n",
            " [1.03790630e-01 5.87897498e+10]\n",
            " [9.96801100e-02 4.65957841e+10]\n",
            " [9.65972200e-02 4.14832721e+10]\n",
            " [1.02763000e-01 5.58327131e+10]\n",
            " [9.86524800e-02 2.95411180e+10]\n",
            " [1.01735370e-01 5.28159383e+10]\n",
            " [1.35647160e-01 1.40991700e+10]\n",
            " [1.08928780e-01 6.35412728e+10]\n",
            " [1.05845890e-01 6.19503058e+10]\n",
            " [1.22287970e-01 6.85155343e+10]\n",
            " [1.01735370e-01 5.28159383e+10]\n",
            " [1.54144500e-01 6.55812833e+09]\n",
            " [1.33591900e-01 6.13546298e+09]\n",
            " [1.07901150e-01 6.33023958e+10]\n",
            " [9.65972200e-02 4.14832721e+10]\n",
            " [9.65972200e-02 4.14832721e+10]\n",
            " [1.04818260e-01 5.99510925e+10]\n",
            " [1.01735370e-01 5.37111237e+10]\n",
            " [1.10984040e-01 6.48263424e+10]\n",
            " [1.01735370e-01 5.10255675e+10]\n",
            " [1.00707740e-01 4.88332768e+10]\n",
            " [1.02763000e-01 5.58327131e+10]\n",
            " [9.65972200e-02 4.14832721e+10]\n",
            " [1.46951090e-01 1.85923121e+10]\n",
            " [1.05845890e-01 6.10898849e+10]\n",
            " [9.65972200e-02 3.95976689e+10]\n",
            " [9.65972200e-02 4.05404705e+10]\n",
            " [1.05845890e-01 6.10898849e+10]\n",
            " [9.96801100e-02 4.47684985e+10]\n",
            " [9.65972200e-02 3.86548672e+10]\n",
            " [1.06873520e-01 6.22067774e+10]\n",
            " [1.43868200e-01 1.51925750e+10]\n",
            " [9.96801100e-02 4.29412128e+10]\n",
            " [9.76248500e-02 4.19794835e+10]\n",
            " [1.09956410e-01 6.37756847e+10]\n",
            " [1.03790630e-01 5.87897498e+10]\n",
            " [1.25370860e-01 6.97364098e+10]\n",
            " [1.93194440e-01 1.17850205e+10]\n",
            " [9.86524800e-02 4.24653572e+10]\n",
            " [1.04818260e-01 6.08199489e+10]\n",
            " [1.04818260e-01 5.99510925e+10]\n",
            " [1.57227390e-01 3.76504446e+09]\n",
            " [1.24343230e-01 6.88478949e+10]\n",
            " [9.86524800e-02 4.24653572e+10]\n",
            " [1.01735370e-01 4.92351967e+10]\n",
            " [1.36674790e-01 1.46595022e+10]\n",
            " [1.44895830e-01 1.69704295e+10]\n",
            " [1.01735370e-01 5.46063091e+10]\n",
            " [9.65972200e-02 3.95976689e+10]\n",
            " [1.06873520e-01 6.22067774e+10]\n",
            " [1.32564270e-01 8.24403294e+09]\n",
            " [1.42840570e-01 1.53018741e+10]\n",
            " [1.63393170e-01 9.47545296e+09]\n",
            " [1.19205080e-01 6.72315100e+10]\n",
            " [1.12011670e-01 6.50446636e+10]\n",
            " [1.20232710e-01 4.54478739e+09]\n",
            " [4.31604600e-01 3.16511979e+09]\n",
            " [3.90499400e-01 2.33219353e+09]\n",
            " [8.83761800e-02 1.08132989e-11]]\n"
          ]
        }
      ]
    }
  ]
}